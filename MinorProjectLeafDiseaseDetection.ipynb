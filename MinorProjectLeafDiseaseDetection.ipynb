{
  "cells": [
    {
      "cell_type": "markdown",
      "metadata": {
        "id": "view-in-github",
        "colab_type": "text"
      },
      "source": [
        "<a href=\"https://colab.research.google.com/github/shruti-sharm1/LeafDiseaseDetection/blob/main/MinorProjectLeafDiseaseDetection.ipynb\" target=\"_parent\"><img src=\"https://colab.research.google.com/assets/colab-badge.svg\" alt=\"Open In Colab\"/></a>"
      ]
    },
    {
      "cell_type": "code",
      "source": [
        "from google.colab import drive\n",
        "drive.mount('/content/drive')"
      ],
      "metadata": {
        "colab": {
          "base_uri": "https://localhost:8080/"
        },
        "id": "imniZWyEprbd",
        "outputId": "e5d4d36d-95c6-4dce-e895-d6b5e63b3c10"
      },
      "execution_count": null,
      "outputs": [
        {
          "output_type": "stream",
          "name": "stdout",
          "text": [
            "Drive already mounted at /content/drive; to attempt to forcibly remount, call drive.mount(\"/content/drive\", force_remount=True).\n"
          ]
        }
      ]
    },
    {
      "cell_type": "code",
      "execution_count": null,
      "metadata": {
        "id": "x0SL3mTj2BmZ"
      },
      "outputs": [],
      "source": [
        "import numpy as np\n",
        "import pickle\n",
        "from cv2 import cv2\n",
        "from os import listdir\n",
        "from sklearn.preprocessing import LabelBinarizer\n",
        "from keras.models import Sequential\n",
        "from tensorflow.keras.layers import BatchNormalization\n",
        "from keras.layers.convolutional import Conv2D\n",
        "from keras.layers.convolutional import MaxPooling2D\n",
        "from keras.layers.core import Activation, Flatten, Dropout, Dense\n",
        "from keras import backend as K\n",
        "from keras.preprocessing.image import ImageDataGenerator\n",
        "from tensorflow.keras.optimizers import Adam\n",
        "from keras.preprocessing import image\n",
        "from keras.preprocessing.image import img_to_array\n",
        "from sklearn.preprocessing import MultiLabelBinarizer\n",
        "from sklearn.model_selection import train_test_split\n",
        "import matplotlib.pyplot as plt"
      ]
    },
    {
      "cell_type": "code",
      "execution_count": null,
      "metadata": {
        "id": "WPDlTzWI5tlP"
      },
      "outputs": [],
      "source": [
        "EPOCHS = 10\n",
        "INIT_LR = 1e-3\n",
        "BS = 32\n",
        "default_image_size = tuple((256, 256))\n",
        "image_size = 0\n",
        "directory_root = '/content/drive/MyDrive/PlantVillage'\n",
        "width=256\n",
        "height=256\n",
        "depth=3"
      ]
    },
    {
      "cell_type": "code",
      "execution_count": null,
      "metadata": {
        "id": "fzHp0dW35zSg"
      },
      "outputs": [],
      "source": [
        "def convert_image_to_array(image_dir):\n",
        "    try:\n",
        "        image = cv2.imread(image_dir)\n",
        "        if image is not None :\n",
        "            image = cv2.resize(image, default_image_size)   \n",
        "            return img_to_array(image)\n",
        "        else :\n",
        "            return np.array([])\n",
        "    except Exception as e:\n",
        "        print(f\"Error : {e}\")\n",
        "        return None"
      ]
    },
    {
      "cell_type": "code",
      "execution_count": null,
      "metadata": {
        "id": "j7d8B7fY52rh",
        "colab": {
          "base_uri": "https://localhost:8080/"
        },
        "outputId": "311b0b84-10f2-406a-80b5-f7ef13ae2e70"
      },
      "outputs": [
        {
          "output_type": "stream",
          "name": "stdout",
          "text": [
            "[INFO] Loading images ...\n",
            "['Tomato_Septoria_leaf_spot', 'Tomato_Leaf_Mold', 'Tomato_Late_blight', 'Tomato_healthy', 'Tomato_Early_blight', 'Tomato_Bacterial_spot', 'Potato___Late_blight', 'Potato___healthy', 'Potato___Early_blight', 'Tomato__Tomato_YellowLeaf__Curl_Virus', 'Tomato__Tomato_mosaic_virus', 'Tomato__Target_Spot', 'Tomato_Spider_mites_Two_spotted_spider_mite', 'Pepper__bell___healthy']\n",
            "[INFO] Image loading completed\n"
          ]
        }
      ],
      "source": [
        "image_list, label_list = [], []\n",
        "try:\n",
        "    print(\"[INFO] Loading images ...\")\n",
        "    root_dir = listdir(directory_root)\n",
        "    print(root_dir)\n",
        "\n",
        "    for plant_folder in root_dir :\n",
        "        plant_disease_img = listdir(f\"{directory_root}/{plant_folder}\")\n",
        "        \n",
        "        for image in plant_disease_img:\n",
        "            image_directory = f\"{directory_root}/{plant_folder}/{image}\"\n",
        "            if image_directory.endswith(\".jpg\") == True or image_directory.endswith(\".JPG\") == True:\n",
        "                image_list.append(convert_image_to_array(image_directory))\n",
        "                label_list.append(plant_folder)\n",
        "    print(\"[INFO] Image loading completed\")  \n",
        "except Exception as e:\n",
        "    print(f\"Error : {e}\")\n",
        "# Transform the loaded training image data into numpy array\n",
        "np_image_list = np.array(image_list, dtype=np.float16) / 225"
      ]
    },
    {
      "cell_type": "code",
      "execution_count": null,
      "metadata": {
        "id": "avJxBmgH8ZL9"
      },
      "outputs": [],
      "source": [
        "image_size = len(image_list)"
      ]
    },
    {
      "cell_type": "code",
      "execution_count": null,
      "metadata": {
        "colab": {
          "base_uri": "https://localhost:8080/"
        },
        "id": "dt53yuZf8irh",
        "outputId": "2b083dd5-e0ca-47a6-ebad-54d8a6364c2b"
      },
      "outputs": [
        {
          "output_type": "stream",
          "name": "stdout",
          "text": [
            "14\n",
            "['Pepper__bell___healthy' 'Potato___Early_blight' 'Potato___Late_blight'\n",
            " 'Potato___healthy' 'Tomato_Bacterial_spot' 'Tomato_Early_blight'\n",
            " 'Tomato_Late_blight' 'Tomato_Leaf_Mold' 'Tomato_Septoria_leaf_spot'\n",
            " 'Tomato_Spider_mites_Two_spotted_spider_mite' 'Tomato__Target_Spot'\n",
            " 'Tomato__Tomato_YellowLeaf__Curl_Virus' 'Tomato__Tomato_mosaic_virus'\n",
            " 'Tomato_healthy']\n"
          ]
        }
      ],
      "source": [
        "label_binarizer = LabelBinarizer()\n",
        "image_labels = label_binarizer.fit_transform(label_list)\n",
        "pickle.dump(label_binarizer,open('label_transform.pkl', 'wb'))\n",
        "n_classes = len(label_binarizer.classes_)\n",
        "print(n_classes)\n",
        "print(label_binarizer.classes_)"
      ]
    },
    {
      "cell_type": "code",
      "execution_count": null,
      "metadata": {
        "colab": {
          "base_uri": "https://localhost:8080/"
        },
        "id": "7LH2jBPp9DDf",
        "outputId": "87f391a3-4500-4f97-d900-0584a0f8ebda"
      },
      "outputs": [
        {
          "output_type": "stream",
          "name": "stdout",
          "text": [
            "[INFO] Spliting data to train, test\n"
          ]
        }
      ],
      "source": [
        "print(\"[INFO] Spliting data to train, test\")\n",
        "x_train, x_test, y_train, y_test = train_test_split(np_image_list, image_labels, test_size=0.2, random_state = 42) "
      ]
    },
    {
      "cell_type": "code",
      "execution_count": null,
      "metadata": {
        "id": "cUGvcOQD9HDZ"
      },
      "outputs": [],
      "source": [
        "aug = ImageDataGenerator(\n",
        "    rotation_range=25, width_shift_range=0.1,\n",
        "    height_shift_range=0.1, shear_range=0.2, \n",
        "    zoom_range=0.2,horizontal_flip=True, \n",
        "    fill_mode=\"nearest\")"
      ]
    },
    {
      "cell_type": "code",
      "execution_count": null,
      "metadata": {
        "id": "DnpvMTbU9JqQ"
      },
      "outputs": [],
      "source": [
        "model = Sequential()\n",
        "inputShape = (height, width, depth)\n",
        "chanDim = -1\n",
        "if K.image_data_format() == \"channels_first\":\n",
        "    inputShape = (depth, height, width)\n",
        "    chanDim = 1\n",
        "model.add(Conv2D(32, (3, 3), padding=\"same\",input_shape=inputShape))\n",
        "model.add(Activation(\"relu\"))\n",
        "model.add(BatchNormalization(axis=chanDim))\n",
        "model.add(MaxPooling2D(pool_size=(3, 3)))\n",
        "model.add(Dropout(0.25))\n",
        "model.add(Conv2D(64, (3, 3), padding=\"same\"))\n",
        "model.add(Activation(\"relu\"))\n",
        "model.add(BatchNormalization(axis=chanDim))\n",
        "model.add(Conv2D(64, (3, 3), padding=\"same\"))\n",
        "model.add(Activation(\"relu\"))\n",
        "model.add(BatchNormalization(axis=chanDim))\n",
        "model.add(MaxPooling2D(pool_size=(2, 2)))\n",
        "model.add(Dropout(0.25))\n",
        "model.add(Conv2D(128, (3, 3), padding=\"same\"))\n",
        "model.add(Activation(\"relu\"))\n",
        "model.add(BatchNormalization(axis=chanDim))\n",
        "model.add(Conv2D(128, (3, 3), padding=\"same\"))\n",
        "model.add(Activation(\"relu\"))\n",
        "model.add(BatchNormalization(axis=chanDim))\n",
        "model.add(MaxPooling2D(pool_size=(2, 2)))\n",
        "model.add(Dropout(0.25))\n",
        "model.add(Flatten())\n",
        "model.add(Dense(1024))\n",
        "model.add(Activation(\"relu\"))\n",
        "model.add(BatchNormalization())\n",
        "model.add(Dropout(0.5))\n",
        "model.add(Dense(n_classes))\n",
        "model.add(Activation(\"softmax\"))"
      ]
    },
    {
      "cell_type": "code",
      "execution_count": null,
      "metadata": {
        "colab": {
          "base_uri": "https://localhost:8080/"
        },
        "id": "vguIkVdD96xm",
        "outputId": "d26db94b-b89a-4913-9764-fecd47d41ff4"
      },
      "outputs": [
        {
          "output_type": "stream",
          "name": "stdout",
          "text": [
            "Model: \"sequential_1\"\n",
            "_________________________________________________________________\n",
            " Layer (type)                Output Shape              Param #   \n",
            "=================================================================\n",
            " conv2d_5 (Conv2D)           (None, 256, 256, 32)      896       \n",
            "                                                                 \n",
            " activation_7 (Activation)   (None, 256, 256, 32)      0         \n",
            "                                                                 \n",
            " batch_normalization_6 (Batc  (None, 256, 256, 32)     128       \n",
            " hNormalization)                                                 \n",
            "                                                                 \n",
            " max_pooling2d_3 (MaxPooling  (None, 85, 85, 32)       0         \n",
            " 2D)                                                             \n",
            "                                                                 \n",
            " dropout_4 (Dropout)         (None, 85, 85, 32)        0         \n",
            "                                                                 \n",
            " conv2d_6 (Conv2D)           (None, 85, 85, 64)        18496     \n",
            "                                                                 \n",
            " activation_8 (Activation)   (None, 85, 85, 64)        0         \n",
            "                                                                 \n",
            " batch_normalization_7 (Batc  (None, 85, 85, 64)       256       \n",
            " hNormalization)                                                 \n",
            "                                                                 \n",
            " conv2d_7 (Conv2D)           (None, 85, 85, 64)        36928     \n",
            "                                                                 \n",
            " activation_9 (Activation)   (None, 85, 85, 64)        0         \n",
            "                                                                 \n",
            " batch_normalization_8 (Batc  (None, 85, 85, 64)       256       \n",
            " hNormalization)                                                 \n",
            "                                                                 \n",
            " max_pooling2d_4 (MaxPooling  (None, 42, 42, 64)       0         \n",
            " 2D)                                                             \n",
            "                                                                 \n",
            " dropout_5 (Dropout)         (None, 42, 42, 64)        0         \n",
            "                                                                 \n",
            " conv2d_8 (Conv2D)           (None, 42, 42, 128)       73856     \n",
            "                                                                 \n",
            " activation_10 (Activation)  (None, 42, 42, 128)       0         \n",
            "                                                                 \n",
            " batch_normalization_9 (Batc  (None, 42, 42, 128)      512       \n",
            " hNormalization)                                                 \n",
            "                                                                 \n",
            " conv2d_9 (Conv2D)           (None, 42, 42, 128)       147584    \n",
            "                                                                 \n",
            " activation_11 (Activation)  (None, 42, 42, 128)       0         \n",
            "                                                                 \n",
            " batch_normalization_10 (Bat  (None, 42, 42, 128)      512       \n",
            " chNormalization)                                                \n",
            "                                                                 \n",
            " max_pooling2d_5 (MaxPooling  (None, 21, 21, 128)      0         \n",
            " 2D)                                                             \n",
            "                                                                 \n",
            " dropout_6 (Dropout)         (None, 21, 21, 128)       0         \n",
            "                                                                 \n",
            " flatten_1 (Flatten)         (None, 56448)             0         \n",
            "                                                                 \n",
            " dense_2 (Dense)             (None, 1024)              57803776  \n",
            "                                                                 \n",
            " activation_12 (Activation)  (None, 1024)              0         \n",
            "                                                                 \n",
            " batch_normalization_11 (Bat  (None, 1024)             4096      \n",
            " chNormalization)                                                \n",
            "                                                                 \n",
            " dropout_7 (Dropout)         (None, 1024)              0         \n",
            "                                                                 \n",
            " dense_3 (Dense)             (None, 14)                14350     \n",
            "                                                                 \n",
            " activation_13 (Activation)  (None, 14)                0         \n",
            "                                                                 \n",
            "=================================================================\n",
            "Total params: 58,101,646\n",
            "Trainable params: 58,098,766\n",
            "Non-trainable params: 2,880\n",
            "_________________________________________________________________\n"
          ]
        }
      ],
      "source": [
        "model.summary()"
      ]
    },
    {
      "cell_type": "code",
      "execution_count": null,
      "metadata": {
        "colab": {
          "base_uri": "https://localhost:8080/"
        },
        "id": "C0UlLhJC-AG9",
        "outputId": "e21e3b6f-4b27-4a4c-aa8b-f4aa8ae208d6"
      },
      "outputs": [
        {
          "output_type": "stream",
          "name": "stdout",
          "text": [
            "[INFO] training network...\n"
          ]
        },
        {
          "output_type": "stream",
          "name": "stderr",
          "text": [
            "/usr/local/lib/python3.7/dist-packages/keras/optimizer_v2/adam.py:105: UserWarning: The `lr` argument is deprecated, use `learning_rate` instead.\n",
            "  super(Adam, self).__init__(name, **kwargs)\n"
          ]
        }
      ],
      "source": [
        "opt = Adam(lr=INIT_LR, decay=INIT_LR / EPOCHS)\n",
        "# distribution\n",
        "model.compile(loss=\"binary_crossentropy\", optimizer=opt,metrics=[\"accuracy\"])\n",
        "# train the network\n",
        "print(\"[INFO] training network...\")"
      ]
    },
    {
      "cell_type": "code",
      "execution_count": null,
      "metadata": {
        "colab": {
          "base_uri": "https://localhost:8080/"
        },
        "id": "Nf66YYlC-CfT",
        "outputId": "9bc2d4cc-5924-4a3d-a400-207c7f3d8410"
      },
      "outputs": [
        {
          "metadata": {
            "tags": null
          },
          "name": "stderr",
          "output_type": "stream",
          "text": [
            "/usr/local/lib/python3.7/dist-packages/ipykernel_launcher.py:5: UserWarning: `Model.fit_generator` is deprecated and will be removed in a future version. Please use `Model.fit`, which supports generators.\n",
            "  \"\"\"\n"
          ]
        },
        {
          "output_type": "stream",
          "name": "stdout",
          "text": [
            "Epoch 1/10\n",
            "20/20 [==============================] - 144s 7s/step - loss: 0.8484 - accuracy: 0.1664 - val_loss: 0.8271 - val_accuracy: 0.0859\n",
            "Epoch 2/10\n",
            "20/20 [==============================] - 141s 7s/step - loss: 0.6774 - accuracy: 0.2250 - val_loss: 1.3184 - val_accuracy: 0.0859\n",
            "Epoch 3/10\n",
            "20/20 [==============================] - 137s 7s/step - loss: 0.5213 - accuracy: 0.2908 - val_loss: 1.9924 - val_accuracy: 0.0307\n",
            "Epoch 4/10\n",
            "20/20 [==============================] - 137s 7s/step - loss: 0.3760 - accuracy: 0.3538 - val_loss: 2.5684 - val_accuracy: 0.0859\n",
            "Epoch 5/10\n",
            "20/20 [==============================] - 139s 7s/step - loss: 0.2793 - accuracy: 0.3667 - val_loss: 1.0637 - val_accuracy: 0.0307\n",
            "Epoch 6/10\n",
            "20/20 [==============================] - 139s 7s/step - loss: 0.2217 - accuracy: 0.4523 - val_loss: 0.7354 - val_accuracy: 0.0307\n",
            "Epoch 7/10\n",
            "20/20 [==============================] - 139s 7s/step - loss: 0.1858 - accuracy: 0.5380 - val_loss: 0.7892 - val_accuracy: 0.0307\n",
            "Epoch 8/10\n",
            "20/20 [==============================] - 138s 7s/step - loss: 0.1668 - accuracy: 0.6090 - val_loss: 0.7655 - val_accuracy: 0.0307\n",
            "Epoch 9/10\n",
            "20/20 [==============================] - 138s 7s/step - loss: 0.1565 - accuracy: 0.6333 - val_loss: 0.7351 - val_accuracy: 0.0798\n",
            "Epoch 10/10\n",
            "20/20 [==============================] - 138s 7s/step - loss: 0.1331 - accuracy: 0.6753 - val_loss: 0.8543 - val_accuracy: 0.0920\n"
          ]
        }
      ],
      "source": [
        "history = model.fit_generator(\n",
        "    aug.flow(x_train, y_train, batch_size=BS),\n",
        "    validation_data=(x_test, y_test),\n",
        "    steps_per_epoch=len(x_train) // BS,\n",
        "    epochs=EPOCHS, verbose=1\n",
        "    )"
      ]
    },
    {
      "cell_type": "code",
      "execution_count": null,
      "metadata": {
        "id": "X4tc8HPjH0NH"
      },
      "outputs": [],
      "source": [
        ""
      ]
    },
    {
      "cell_type": "code",
      "execution_count": 38,
      "metadata": {
        "colab": {
          "base_uri": "https://localhost:8080/",
          "height": 545
        },
        "id": "7ZqyDb3h-G9e",
        "outputId": "eef1be89-4f54-41ff-d30f-eafa939aff25"
      },
      "outputs": [
        {
          "output_type": "display_data",
          "data": {
            "image/png": "[encoded data removed]",
            "text/plain": [
              "<Figure size 432x288 with 1 Axes>"
            ]
          },
          "metadata": {
            "needs_background": "light"
          }
        },
        {
          "output_type": "display_data",
          "data": {
            "image/png": "[encoded data removed]",
            "text/plain": [
              "<Figure size 432x288 with 1 Axes>"
            ]
          },
          "metadata": {
            "needs_background": "light"
          }
        }
      ],
      "source": [
        "acc = history.history['accuracy']\n",
        "val_acc = history.history['val_accuracy']\n",
        "loss = history.history['loss']\n",
        "val_loss = history.history['val_loss']\n",
        "epochs = range(1, len(acc) + 1)\n",
        "#Train and validation accuracy\n",
        "plt.plot(epochs, acc, 'b', label='Training accurarcy')\n",
        "plt.plot(epochs, val_acc, 'r', label='Validation accurarcy')\n",
        "plt.title('Training and Validation accurarcy')\n",
        "plt.legend()\n",
        "\n",
        "plt.figure()\n",
        "#Train and validation loss\n",
        "plt.plot(epochs, loss, 'b', label='Training loss')\n",
        "plt.plot(epochs, val_loss, 'r', label='Validation loss')\n",
        "plt.title('Training and Validation loss')\n",
        "plt.legend()\n",
        "plt.show()"
      ]
    },
    {
      "cell_type": "code",
      "execution_count": 39,
      "metadata": {
        "id": "19PuwWIu-MYI",
        "colab": {
          "base_uri": "https://localhost:8080/"
        },
        "outputId": "1e5ee411-5b18-49a2-a2b7-6cb4ad39a2b7"
      },
      "outputs": [
        {
          "output_type": "stream",
          "name": "stdout",
          "text": [
            "[INFO] Calculating model accuracy\n",
            "6/6 [==============================] - 8s 1s/step - loss: 0.8543 - accuracy: 0.0920\n",
            "Test Accuracy: 9.20245423913002\n"
          ]
        }
      ],
      "source": [
        "print(\"[INFO] Calculating model accuracy\")\n",
        "scores = model.evaluate(x_test, y_test)\n",
        "print(f\"Test Accuracy: {scores[1]*100}\")"
      ]
    },
    {
      "cell_type": "code",
      "execution_count": 40,
      "metadata": {
        "id": "vhDamOjn-QLP",
        "colab": {
          "base_uri": "https://localhost:8080/"
        },
        "outputId": "aa309fae-781f-4dcc-876f-143c8f3abf0d"
      },
      "outputs": [
        {
          "output_type": "stream",
          "name": "stdout",
          "text": [
            "[INFO] Saving model...\n",
            "INFO:tensorflow:Assets written to: ram://5ed8d267-f338-46d1-8f07-59dda63c2962/assets\n"
          ]
        }
      ],
      "source": [
        "# save the model to disk\n",
        "print(\"[INFO] Saving model...\")\n",
        "pickle.dump(model,open('cnn_model.pkl', 'wb'))"
      ]
    }
  ],
  "metadata": {
    "colab": {
      "name": "MinorProjectLeafDiseaseDetection.ipynb",
      "provenance": [],
      "authorship_tag": "ABX9TyMmHlPMRkiieytK9yrFYJ2W",
      "include_colab_link": true
    },
    "kernelspec": {
      "display_name": "Python 3",
      "name": "python3"
    },
    "language_info": {
      "name": "python"
    }
  },
  "nbformat": 4,
  "nbformat_minor": 0
}