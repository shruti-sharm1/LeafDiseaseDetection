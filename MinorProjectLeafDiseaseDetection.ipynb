{
  "cells": [
    {
      "cell_type": "markdown",
      "metadata": {
        "id": "view-in-github",
        "colab_type": "text"
      },
      "source": [
        "<a href=\"https://colab.research.google.com/github/shruti-sharm1/LeafDiseaseDetection/blob/main/MinorProjectLeafDiseaseDetection.ipynb\" target=\"_parent\"><img src=\"https://colab.research.google.com/assets/colab-badge.svg\" alt=\"Open In Colab\"/></a>"
      ]
    },
    {
      "cell_type": "code",
      "source": [
        "from google.colab import drive\n",
        "drive.mount('/content/drive')"
      ],
      "metadata": {
        "colab": {
          "base_uri": "https://localhost:8080/"
        },
        "id": "imniZWyEprbd",
        "outputId": "c97c06fe-f7ce-4e69-a28e-020b21fe8a0e"
      },
      "execution_count": 1,
      "outputs": [
        {
          "output_type": "stream",
          "name": "stdout",
          "text": [
            "Drive already mounted at /content/drive; to attempt to forcibly remount, call drive.mount(\"/content/drive\", force_remount=True).\n"
          ]
        }
      ]
    },
    {
      "cell_type": "code",
      "execution_count": 2,
      "metadata": {
        "id": "x0SL3mTj2BmZ"
      },
      "outputs": [],
      "source": [
        "import numpy as np\n",
        "import pickle\n",
        "from cv2 import cv2\n",
        "from os import listdir\n",
        "from sklearn.preprocessing import LabelBinarizer\n",
        "from keras.models import Sequential\n",
        "from tensorflow.keras.layers import BatchNormalization\n",
        "from keras.layers.convolutional import Conv2D\n",
        "from keras.layers.convolutional import MaxPooling2D\n",
        "from keras.layers.core import Activation, Flatten, Dropout, Dense\n",
        "from keras import backend as K\n",
        "from keras.preprocessing.image import ImageDataGenerator\n",
        "from tensorflow.keras.optimizers import Adam\n",
        "from keras.preprocessing import image\n",
        "from keras.preprocessing.image import img_to_array\n",
        "from sklearn.preprocessing import MultiLabelBinarizer\n",
        "from sklearn.model_selection import train_test_split\n",
        "import matplotlib.pyplot as plt"
      ]
    },
    {
      "cell_type": "code",
      "execution_count": 3,
      "metadata": {
        "id": "WPDlTzWI5tlP"
      },
      "outputs": [],
      "source": [
        "EPOCHS = 25\n",
        "INIT_LR = 1e-3\n",
        "BS = 32\n",
        "default_image_size = tuple((256, 256))\n",
        "image_size = 0\n",
        "directory_root = '/content/drive/MyDrive/PlantVillage1'\n",
        "width=256\n",
        "height=256\n",
        "depth=3"
      ]
    },
    {
      "cell_type": "code",
      "execution_count": 4,
      "metadata": {
        "id": "fzHp0dW35zSg"
      },
      "outputs": [],
      "source": [
        "def convert_image_to_array(image_dir):\n",
        "    try:\n",
        "        image = cv2.imread(image_dir)\n",
        "        if image is not None :\n",
        "            image = cv2.resize(image, default_image_size)   \n",
        "            return img_to_array(image)\n",
        "        else :\n",
        "            return np.array([])\n",
        "    except Exception as e:\n",
        "        print(f\"Error : {e}\")\n",
        "        return None"
      ]
    },
    {
      "cell_type": "code",
      "execution_count": 5,
      "metadata": {
        "id": "j7d8B7fY52rh",
        "colab": {
          "base_uri": "https://localhost:8080/"
        },
        "outputId": "8c3ab5be-515e-4a9f-ec56-13205136a375"
      },
      "outputs": [
        {
          "output_type": "stream",
          "name": "stdout",
          "text": [
            "[INFO] Loading images ...\n",
            "['Tomato_Early_blight', 'Tomato_healthy', 'Potato___healthy', 'Tomato_Late_blight', 'Potato___Late_blight', 'Potato___Early_blight']\n",
            "[INFO] Image loading completed\n"
          ]
        }
      ],
      "source": [
        "image_list, label_list = [], []\n",
        "try:\n",
        "    print(\"[INFO] Loading images ...\")\n",
        "    root_dir = listdir(directory_root)\n",
        "    print(root_dir)\n",
        "\n",
        "    for plant_folder in root_dir :\n",
        "        plant_disease_img = listdir(f\"{directory_root}/{plant_folder}\")\n",
        "        \n",
        "        for image in plant_disease_img:\n",
        "            image_directory = f\"{directory_root}/{plant_folder}/{image}\"\n",
        "            if image_directory.endswith(\".jpg\") == True or image_directory.endswith(\".JPG\") == True:\n",
        "                image_list.append(convert_image_to_array(image_directory))\n",
        "                label_list.append(plant_folder)\n",
        "    print(\"[INFO] Image loading completed\")  \n",
        "except Exception as e:\n",
        "    print(f\"Error : {e}\")\n",
        "# Transform the loaded training image data into numpy array\n",
        "np_image_list = np.array(image_list, dtype=np.float16) / 225"
      ]
    },
    {
      "cell_type": "code",
      "execution_count": 6,
      "metadata": {
        "id": "avJxBmgH8ZL9",
        "colab": {
          "base_uri": "https://localhost:8080/"
        },
        "outputId": "47f41e36-27a7-454a-b6b7-58e441c1af97"
      },
      "outputs": [
        {
          "output_type": "execute_result",
          "data": {
            "text/plain": [
              "2999"
            ]
          },
          "metadata": {},
          "execution_count": 6
        }
      ],
      "source": [
        "image_size = len(image_list)\n",
        "image_size"
      ]
    },
    {
      "cell_type": "code",
      "execution_count": 7,
      "metadata": {
        "colab": {
          "base_uri": "https://localhost:8080/"
        },
        "id": "dt53yuZf8irh",
        "outputId": "e506fc37-59b3-4bf9-bc0d-9983fd6d0195"
      },
      "outputs": [
        {
          "output_type": "stream",
          "name": "stdout",
          "text": [
            "6\n",
            "['Potato___Early_blight' 'Potato___Late_blight' 'Potato___healthy'\n",
            " 'Tomato_Early_blight' 'Tomato_Late_blight' 'Tomato_healthy']\n"
          ]
        }
      ],
      "source": [
        "label_binarizer = LabelBinarizer()\n",
        "image_labels = label_binarizer.fit_transform(label_list)\n",
        "pickle.dump(label_binarizer,open('label_transform.pkl', 'wb'))\n",
        "n_classes = len(label_binarizer.classes_)\n",
        "print(n_classes)\n",
        "print(label_binarizer.classes_)"
      ]
    },
    {
      "cell_type": "code",
      "execution_count": 8,
      "metadata": {
        "colab": {
          "base_uri": "https://localhost:8080/"
        },
        "id": "7LH2jBPp9DDf",
        "outputId": "174a5c4f-c3ee-40d4-d816-05a422f728fb"
      },
      "outputs": [
        {
          "output_type": "stream",
          "name": "stdout",
          "text": [
            "[INFO] Spliting data to train, test\n"
          ]
        }
      ],
      "source": [
        "print(\"[INFO] Spliting data to train, test\")\n",
        "x_train, x_test, y_train, y_test = train_test_split(np_image_list, image_labels, test_size=0.2, random_state = 42) "
      ]
    },
    {
      "cell_type": "code",
      "execution_count": 9,
      "metadata": {
        "id": "cUGvcOQD9HDZ"
      },
      "outputs": [],
      "source": [
        "aug = ImageDataGenerator(\n",
        "    rotation_range=25, width_shift_range=0.1,\n",
        "    height_shift_range=0.1, shear_range=0.2, \n",
        "    zoom_range=0.2,horizontal_flip=True, \n",
        "    fill_mode=\"nearest\")"
      ]
    },
    {
      "cell_type": "code",
      "execution_count": 10,
      "metadata": {
        "id": "DnpvMTbU9JqQ"
      },
      "outputs": [],
      "source": [
        "model = Sequential()\n",
        "inputShape = (height, width, depth)\n",
        "chanDim = -1\n",
        "if K.image_data_format() == \"channels_first\":\n",
        "    inputShape = (depth, height, width)\n",
        "    chanDim = 1\n",
        "model.add(Conv2D(32, (3, 3), padding=\"same\",input_shape=inputShape))\n",
        "model.add(Activation(\"relu\"))\n",
        "model.add(BatchNormalization(axis=chanDim))\n",
        "model.add(MaxPooling2D(pool_size=(3, 3)))\n",
        "model.add(Dropout(0.25))\n",
        "model.add(Conv2D(64, (3, 3), padding=\"same\"))\n",
        "model.add(Activation(\"relu\"))\n",
        "model.add(BatchNormalization(axis=chanDim))\n",
        "model.add(Conv2D(64, (3, 3), padding=\"same\"))\n",
        "model.add(Activation(\"relu\"))\n",
        "model.add(BatchNormalization(axis=chanDim))\n",
        "model.add(MaxPooling2D(pool_size=(2, 2)))\n",
        "model.add(Dropout(0.25))\n",
        "model.add(Conv2D(128, (3, 3), padding=\"same\"))\n",
        "model.add(Activation(\"relu\"))\n",
        "model.add(BatchNormalization(axis=chanDim))\n",
        "model.add(Conv2D(128, (3, 3), padding=\"same\"))\n",
        "model.add(Activation(\"relu\"))\n",
        "model.add(BatchNormalization(axis=chanDim))\n",
        "model.add(MaxPooling2D(pool_size=(2, 2)))\n",
        "model.add(Dropout(0.25))\n",
        "model.add(Flatten())\n",
        "model.add(Dense(1024))\n",
        "model.add(Activation(\"relu\"))\n",
        "model.add(BatchNormalization())\n",
        "model.add(Dropout(0.5))\n",
        "model.add(Dense(n_classes))\n",
        "model.add(Activation(\"softmax\"))"
      ]
    },
    {
      "cell_type": "code",
      "execution_count": 11,
      "metadata": {
        "colab": {
          "base_uri": "https://localhost:8080/"
        },
        "id": "vguIkVdD96xm",
        "outputId": "87b019f1-22c9-49b8-be04-9b1e62df77a0"
      },
      "outputs": [
        {
          "output_type": "stream",
          "name": "stdout",
          "text": [
            "Model: \"sequential\"\n",
            "_________________________________________________________________\n",
            " Layer (type)                Output Shape              Param #   \n",
            "=================================================================\n",
            " conv2d (Conv2D)             (None, 256, 256, 32)      896       \n",
            "                                                                 \n",
            " activation (Activation)     (None, 256, 256, 32)      0         \n",
            "                                                                 \n",
            " batch_normalization (BatchN  (None, 256, 256, 32)     128       \n",
            " ormalization)                                                   \n",
            "                                                                 \n",
            " max_pooling2d (MaxPooling2D  (None, 85, 85, 32)       0         \n",
            " )                                                               \n",
            "                                                                 \n",
            " dropout (Dropout)           (None, 85, 85, 32)        0         \n",
            "                                                                 \n",
            " conv2d_1 (Conv2D)           (None, 85, 85, 64)        18496     \n",
            "                                                                 \n",
            " activation_1 (Activation)   (None, 85, 85, 64)        0         \n",
            "                                                                 \n",
            " batch_normalization_1 (Batc  (None, 85, 85, 64)       256       \n",
            " hNormalization)                                                 \n",
            "                                                                 \n",
            " conv2d_2 (Conv2D)           (None, 85, 85, 64)        36928     \n",
            "                                                                 \n",
            " activation_2 (Activation)   (None, 85, 85, 64)        0         \n",
            "                                                                 \n",
            " batch_normalization_2 (Batc  (None, 85, 85, 64)       256       \n",
            " hNormalization)                                                 \n",
            "                                                                 \n",
            " max_pooling2d_1 (MaxPooling  (None, 42, 42, 64)       0         \n",
            " 2D)                                                             \n",
            "                                                                 \n",
            " dropout_1 (Dropout)         (None, 42, 42, 64)        0         \n",
            "                                                                 \n",
            " conv2d_3 (Conv2D)           (None, 42, 42, 128)       73856     \n",
            "                                                                 \n",
            " activation_3 (Activation)   (None, 42, 42, 128)       0         \n",
            "                                                                 \n",
            " batch_normalization_3 (Batc  (None, 42, 42, 128)      512       \n",
            " hNormalization)                                                 \n",
            "                                                                 \n",
            " conv2d_4 (Conv2D)           (None, 42, 42, 128)       147584    \n",
            "                                                                 \n",
            " activation_4 (Activation)   (None, 42, 42, 128)       0         \n",
            "                                                                 \n",
            " batch_normalization_4 (Batc  (None, 42, 42, 128)      512       \n",
            " hNormalization)                                                 \n",
            "                                                                 \n",
            " max_pooling2d_2 (MaxPooling  (None, 21, 21, 128)      0         \n",
            " 2D)                                                             \n",
            "                                                                 \n",
            " dropout_2 (Dropout)         (None, 21, 21, 128)       0         \n",
            "                                                                 \n",
            " flatten (Flatten)           (None, 56448)             0         \n",
            "                                                                 \n",
            " dense (Dense)               (None, 1024)              57803776  \n",
            "                                                                 \n",
            " activation_5 (Activation)   (None, 1024)              0         \n",
            "                                                                 \n",
            " batch_normalization_5 (Batc  (None, 1024)             4096      \n",
            " hNormalization)                                                 \n",
            "                                                                 \n",
            " dropout_3 (Dropout)         (None, 1024)              0         \n",
            "                                                                 \n",
            " dense_1 (Dense)             (None, 6)                 6150      \n",
            "                                                                 \n",
            " activation_6 (Activation)   (None, 6)                 0         \n",
            "                                                                 \n",
            "=================================================================\n",
            "Total params: 58,093,446\n",
            "Trainable params: 58,090,566\n",
            "Non-trainable params: 2,880\n",
            "_________________________________________________________________\n"
          ]
        }
      ],
      "source": [
        "model.summary()"
      ]
    },
    {
      "cell_type": "code",
      "execution_count": 12,
      "metadata": {
        "colab": {
          "base_uri": "https://localhost:8080/"
        },
        "id": "C0UlLhJC-AG9",
        "outputId": "e6e578eb-9965-4cf4-f64c-3f2656ba4e63"
      },
      "outputs": [
        {
          "output_type": "stream",
          "name": "stdout",
          "text": [
            "[INFO] training network...\n"
          ]
        },
        {
          "output_type": "stream",
          "name": "stderr",
          "text": [
            "/usr/local/lib/python3.7/dist-packages/keras/optimizer_v2/adam.py:105: UserWarning: The `lr` argument is deprecated, use `learning_rate` instead.\n",
            "  super(Adam, self).__init__(name, **kwargs)\n"
          ]
        }
      ],
      "source": [
        "opt = Adam(lr=INIT_LR, decay=INIT_LR / EPOCHS)\n",
        "# distribution\n",
        "model.compile(loss=\"binary_crossentropy\", optimizer=opt,metrics=[\"accuracy\"])\n",
        "# train the network\n",
        "print(\"[INFO] training network...\")"
      ]
    },
    {
      "cell_type": "code",
      "execution_count": 13,
      "metadata": {
        "colab": {
          "base_uri": "https://localhost:8080/"
        },
        "id": "Nf66YYlC-CfT",
        "outputId": "817481fc-4801-43ca-8e47-0f06a0c93a9c"
      },
      "outputs": [
        {
          "metadata": {
            "tags": null
          },
          "name": "stderr",
          "output_type": "stream",
          "text": [
            "/usr/local/lib/python3.7/dist-packages/ipykernel_launcher.py:5: UserWarning: `Model.fit_generator` is deprecated and will be removed in a future version. Please use `Model.fit`, which supports generators.\n",
            "  \"\"\"\n"
          ]
        },
        {
          "output_type": "stream",
          "name": "stdout",
          "text": [
            "Epoch 1/25\n",
            "74/74 [==============================] - 498s 7s/step - loss: 0.5484 - accuracy: 0.6455 - val_loss: 0.7653 - val_accuracy: 0.1567\n",
            "Epoch 2/25\n",
            "74/74 [==============================] - 487s 7s/step - loss: 0.2400 - accuracy: 0.7807 - val_loss: 0.9190 - val_accuracy: 0.2317\n",
            "Epoch 3/25\n",
            "74/74 [==============================] - 486s 7s/step - loss: 0.1948 - accuracy: 0.8031 - val_loss: 4.3912 - val_accuracy: 0.2750\n",
            "Epoch 4/25\n",
            "74/74 [==============================] - 485s 7s/step - loss: 0.1745 - accuracy: 0.8475 - val_loss: 1.2743 - val_accuracy: 0.3150\n",
            "Epoch 5/25\n",
            "74/74 [==============================] - 485s 7s/step - loss: 0.1706 - accuracy: 0.8264 - val_loss: 0.6755 - val_accuracy: 0.3950\n",
            "Epoch 6/25\n",
            "74/74 [==============================] - 485s 7s/step - loss: 0.1297 - accuracy: 0.8758 - val_loss: 0.2395 - val_accuracy: 0.7450\n",
            "Epoch 7/25\n",
            "74/74 [==============================] - 489s 7s/step - loss: 0.1181 - accuracy: 0.8830 - val_loss: 0.4006 - val_accuracy: 0.6667\n",
            "Epoch 8/25\n",
            "74/74 [==============================] - 487s 7s/step - loss: 0.1084 - accuracy: 0.8944 - val_loss: 0.3362 - val_accuracy: 0.6383\n",
            "Epoch 9/25\n",
            "74/74 [==============================] - 486s 7s/step - loss: 0.0971 - accuracy: 0.9071 - val_loss: 0.5906 - val_accuracy: 0.5700\n",
            "Epoch 10/25\n",
            "74/74 [==============================] - 485s 7s/step - loss: 0.0970 - accuracy: 0.9113 - val_loss: 0.3633 - val_accuracy: 0.7133\n",
            "Epoch 11/25\n",
            "74/74 [==============================] - 484s 7s/step - loss: 0.0912 - accuracy: 0.9087 - val_loss: 1.4855 - val_accuracy: 0.3450\n",
            "Epoch 12/25\n",
            "74/74 [==============================] - 487s 7s/step - loss: 0.1506 - accuracy: 0.8466 - val_loss: 1.2594 - val_accuracy: 0.3900\n",
            "Epoch 13/25\n",
            "74/74 [==============================] - 486s 7s/step - loss: 0.1343 - accuracy: 0.8673 - val_loss: 1.0341 - val_accuracy: 0.5450\n",
            "Epoch 14/25\n",
            "74/74 [==============================] - 485s 7s/step - loss: 0.1144 - accuracy: 0.8826 - val_loss: 0.1682 - val_accuracy: 0.8583\n",
            "Epoch 15/25\n",
            "74/74 [==============================] - 498s 7s/step - loss: 0.0986 - accuracy: 0.9071 - val_loss: 0.1836 - val_accuracy: 0.8267\n",
            "Epoch 16/25\n",
            "74/74 [==============================] - 490s 7s/step - loss: 0.0891 - accuracy: 0.9054 - val_loss: 0.1009 - val_accuracy: 0.8783\n",
            "Epoch 17/25\n",
            "74/74 [==============================] - 489s 7s/step - loss: 0.0821 - accuracy: 0.9218 - val_loss: 0.1387 - val_accuracy: 0.8417\n",
            "Epoch 18/25\n",
            "74/74 [==============================] - 485s 7s/step - loss: 0.0728 - accuracy: 0.9349 - val_loss: 0.3016 - val_accuracy: 0.7400\n",
            "Epoch 19/25\n",
            "74/74 [==============================] - 486s 7s/step - loss: 0.0757 - accuracy: 0.9269 - val_loss: 0.2959 - val_accuracy: 0.7933\n",
            "Epoch 20/25\n",
            "74/74 [==============================] - 485s 7s/step - loss: 0.0638 - accuracy: 0.9409 - val_loss: 0.2129 - val_accuracy: 0.8533\n",
            "Epoch 21/25\n",
            "74/74 [==============================] - 487s 7s/step - loss: 0.0634 - accuracy: 0.9366 - val_loss: 0.2142 - val_accuracy: 0.8433\n",
            "Epoch 22/25\n",
            "74/74 [==============================] - 489s 7s/step - loss: 0.0588 - accuracy: 0.9497 - val_loss: 0.1343 - val_accuracy: 0.9000\n",
            "Epoch 23/25\n",
            "74/74 [==============================] - 494s 7s/step - loss: 0.0569 - accuracy: 0.9480 - val_loss: 0.7949 - val_accuracy: 0.5800\n",
            "Epoch 24/25\n",
            "74/74 [==============================] - 512s 7s/step - loss: 0.0753 - accuracy: 0.9265 - val_loss: 0.0770 - val_accuracy: 0.9217\n",
            "Epoch 25/25\n",
            "74/74 [==============================] - 507s 7s/step - loss: 0.0635 - accuracy: 0.9387 - val_loss: 0.3436 - val_accuracy: 0.7267\n"
          ]
        }
      ],
      "source": [
        "history = model.fit_generator(\n",
        "    aug.flow(x_train, y_train, batch_size=BS),\n",
        "    validation_data=(x_test, y_test),\n",
        "    steps_per_epoch=len(x_train) // BS,\n",
        "    epochs=EPOCHS, verbose=1\n",
        "    )"
      ]
    },
    {
      "cell_type": "code",
      "execution_count": 13,
      "metadata": {
        "id": "X4tc8HPjH0NH"
      },
      "outputs": [],
      "source": [
        ""
      ]
    },
    {
      "cell_type": "code",
      "execution_count": 14,
      "metadata": {
        "id": "7ZqyDb3h-G9e",
        "colab": {
          "base_uri": "https://localhost:8080/",
          "height": 545
        },
        "outputId": "d649d849-c8ac-44e3-c439-fc4dc9a51c55"
      },
      "outputs": [
        {
          "output_type": "display_data",
          "data": {
            "image/png": "[encoded data removed]",
            "text/plain": [
              "<Figure size 432x288 with 1 Axes>"
            ]
          },
          "metadata": {
            "needs_background": "light"
          }
        },
        {
          "output_type": "display_data",
          "data": {
            "image/png": "[encoded data removed]",
            "text/plain": [
              "<Figure size 432x288 with 1 Axes>"
            ]
          },
          "metadata": {
            "needs_background": "light"
          }
        }
      ],
      "source": [
        "acc = history.history['accuracy']\n",
        "val_acc = history.history['val_accuracy']\n",
        "loss = history.history['loss']\n",
        "val_loss = history.history['val_loss']\n",
        "epochs = range(1, len(acc) + 1)\n",
        "#Train and validation accuracy\n",
        "plt.plot(epochs, acc, 'b', label='Training accurarcy')\n",
        "plt.plot(epochs, val_acc, 'r', label='Validation accurarcy')\n",
        "plt.title('Training and Validation accurarcy')\n",
        "plt.legend()\n",
        "\n",
        "plt.figure()\n",
        "#Train and validation loss\n",
        "plt.plot(epochs, loss, 'b', label='Training loss')\n",
        "plt.plot(epochs, val_loss, 'r', label='Validation loss')\n",
        "plt.title('Training and Validation loss')\n",
        "plt.legend()\n",
        "plt.show()"
      ]
    },
    {
      "cell_type": "code",
      "execution_count": 15,
      "metadata": {
        "id": "19PuwWIu-MYI",
        "colab": {
          "base_uri": "https://localhost:8080/"
        },
        "outputId": "211e0999-5912-4548-e028-5fd22b4d95c2"
      },
      "outputs": [
        {
          "output_type": "stream",
          "name": "stdout",
          "text": [
            "[INFO] Calculating model accuracy\n",
            "19/19 [==============================] - 25s 1s/step - loss: 0.3436 - accuracy: 0.7267\n",
            "Test Accuracy: 72.66666889190674\n"
          ]
        }
      ],
      "source": [
        "print(\"[INFO] Calculating model accuracy\")\n",
        "scores = model.evaluate(x_test, y_test)\n",
        "print(f\"Test Accuracy: {scores[1]*100}\")"
      ]
    },
    {
      "cell_type": "code",
      "execution_count": 16,
      "metadata": {
        "id": "vhDamOjn-QLP",
        "colab": {
          "base_uri": "https://localhost:8080/"
        },
        "outputId": "9c56805a-282f-4774-a012-17d92161f8ba"
      },
      "outputs": [
        {
          "output_type": "stream",
          "name": "stdout",
          "text": [
            "[INFO] Saving model...\n",
            "INFO:tensorflow:Assets written to: ram://e7c00db5-c8be-4e00-9f9b-b7f01f6bfd63/assets\n"
          ]
        }
      ],
      "source": [
        "# save the model to disk\n",
        "print(\"[INFO] Saving model...\")\n",
        "pickle.dump(model,open('cnn_model.pkl', 'wb'))"
      ]
    }
  ],
  "metadata": {
    "colab": {
      "name": "MinorProjectLeafDiseaseDetection.ipynb",
      "provenance": [],
      "authorship_tag": "ABX9TyNEKcFTdAxczFoW29OkeRqy",
      "include_colab_link": true
    },
    "kernelspec": {
      "display_name": "Python 3",
      "name": "python3"
    },
    "language_info": {
      "name": "python"
    }
  },
  "nbformat": 4,
  "nbformat_minor": 0
}